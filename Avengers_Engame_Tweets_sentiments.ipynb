{
  "nbformat": 4,
  "nbformat_minor": 0,
  "metadata": {
    "colab": {
      "provenance": [],
      "collapsed_sections": [
        "gF1gSken09Gi",
        "dMpzWtFw0vXi"
      ],
      "toc_visible": true,
      "authorship_tag": "ABX9TyOdp2LIEwipxsVKUffFXEWv",
      "include_colab_link": true
    },
    "kernelspec": {
      "name": "python3",
      "display_name": "Python 3"
    },
    "language_info": {
      "name": "python"
    },
    "accelerator": "GPU",
    "gpuClass": "standard"
  },
  "cells": [
    {
      "cell_type": "markdown",
      "metadata": {
        "id": "view-in-github",
        "colab_type": "text"
      },
      "source": [
        "<a href=\"https://colab.research.google.com/github/zpalfi42/Python03/blob/main/Avengers_Engame_Tweets_sentiments.ipynb\" target=\"_parent\"><img src=\"https://colab.research.google.com/assets/colab-badge.svg\" alt=\"Open In Colab\"/></a>"
      ]
    },
    {
      "cell_type": "markdown",
      "source": [
        "# Los sentimientos!"
      ],
      "metadata": {
        "id": "u-Jy2xGH0oVC"
      }
    },
    {
      "cell_type": "markdown",
      "source": [
        "## Requiered packages"
      ],
      "metadata": {
        "id": "gF1gSken09Gi"
      }
    },
    {
      "cell_type": "code",
      "source": [
        "!pip install pysentimiento"
      ],
      "metadata": {
        "id": "n-8fY1KzyxOV"
      },
      "execution_count": null,
      "outputs": []
    },
    {
      "cell_type": "code",
      "source": [
        "!pip install pandas"
      ],
      "metadata": {
        "id": "ufZ5xkB2_Ssg"
      },
      "execution_count": null,
      "outputs": []
    },
    {
      "cell_type": "markdown",
      "source": [
        "## Imports:\n",
        "\n"
      ],
      "metadata": {
        "id": "dMpzWtFw0vXi"
      }
    },
    {
      "cell_type": "markdown",
      "source": [
        "- Pandas: Used for working with csv files.\n",
        "- PySentimiento: Used for analizing data:\n",
        "  - Create Analyzer: Creates the analyzer ready to analyze the input given.\n",
        "  - Preprocess Tweet: Used for preprocessing text from tweets and cleaning them.\n",
        "- MatPlotLib Pyplot: Used for visualizing data."
      ],
      "metadata": {
        "id": "J-IBhANbmdey"
      }
    },
    {
      "cell_type": "code",
      "execution_count": 68,
      "metadata": {
        "id": "giH69hphx-lr"
      },
      "outputs": [],
      "source": [
        "import  pandas as pd\n",
        "import  matplotlib.pyplot as plt\n",
        "from    pysentimiento import  create_analyzer\n",
        "from    pysentimiento.preprocessing import preprocess_tweet\n",
        "\n",
        "# c = pd.read_csv(\"tweets.csv\", encoding='ISO 8859-1', engine='python', on_bad_lines='skip')\n",
        "\n",
        "# analyzer = create_analyzer(task=\"sentiment\", lang=\"en\")\n",
        "\n",
        "# dict = {\n",
        "#     \"POS\":0,\n",
        "#     \"NEU\":0,\n",
        "#     \"NEG\":0\n",
        "# }\n",
        "\n",
        "# for i in c[ 'text' ].values:\n",
        "#   out = analyzer.predict(str(preprocess_tweet(i, lang=\"en\", shorten=2))).output\n",
        "#   dict.update({out: dict.get(out) + 1})"
      ]
    },
    {
      "cell_type": "markdown",
      "source": [
        "## Code:"
      ],
      "metadata": {
        "id": "abNW0WC7dmn2"
      }
    },
    {
      "cell_type": "markdown",
      "source": [
        "We read the data inside the .csv file using pandas, with the following options:\n",
        "\n",
        "- \"tweets.csv\": Is the path of the file we want to read.\n",
        "- encoding=\"ISO 8859-1\": Due to several problems reading with utf-8, this option is a good alternative.\n",
        "- engine='python': Due to several probles with the default engine, this was the best option.\n",
        "- on_bad_lines=\"skip\": Used to skip corrupted lines."
      ],
      "metadata": {
        "id": "t_DDNUt9cWce"
      }
    },
    {
      "cell_type": "code",
      "source": [
        "c = pd.read_csv(\"tweets.csv\", encoding='ISO 8859-1', engine='python', on_bad_lines='skip')"
      ],
      "metadata": {
        "id": "JY_hFCc5decy"
      },
      "execution_count": 69,
      "outputs": []
    },
    {
      "cell_type": "markdown",
      "source": [
        "We create and train the analyzer using the create_analayzer() function from pysentimiento library. We use the following options:\n",
        "\n",
        "- task=\"sentiment\": This tells the analyzer that his task is to analyze the sentiments of the text.\n",
        "- lang=\"en\": we specify the language of the input, in this case is English.\n",
        "\n",
        "For more information about the options see: [PySentimiento](https://github.com/pysentimiento/pysentimiento)"
      ],
      "metadata": {
        "id": "vdxNn2gSey6k"
      }
    },
    {
      "cell_type": "code",
      "source": [
        "analyzer = create_analyzer(task=\"sentiment\", lang=\"en\")"
      ],
      "metadata": {
        "id": "H4wqGOjZewMj"
      },
      "execution_count": 70,
      "outputs": []
    },
    {
      "cell_type": "markdown",
      "source": [
        "We create a dictionary where we are going to store the output of our analyzer."
      ],
      "metadata": {
        "id": "gn7C5_GsftO-"
      }
    },
    {
      "cell_type": "code",
      "source": [
        "res = {\n",
        "    \"POS\":0,\n",
        "    \"NEU\":0,\n",
        "    \"NEG\":0\n",
        "}"
      ],
      "metadata": {
        "id": "k1MTjspTfqmH"
      },
      "execution_count": 71,
      "outputs": []
    },
    {
      "cell_type": "markdown",
      "source": [
        "We iterate the pandas object values of the 'text; column. Then we use the preprocess_tweet with the following options:\n",
        "\n",
        "- i: The tweet text.\n",
        "- lang=\"en\": Specifying the language (english)\n",
        "- shorten=2: Cleaning the repeated characters-in-a-row and leaving only 2.\n",
        "\n",
        "For more information consult the PySentimiento page: [PySentimiento](https://github.com/pysentimiento/pysentimiento)\n",
        "\n",
        "Once the line is cleaned we pass it to the analyzer.predict() that it should return something like this:\n",
        "\n",
        "\n",
        "```\n",
        "AnalyzerOutput(output=POS, probas={POS: 0.998, NEG: 0.002, NEU: 0.000})\n",
        "```\n",
        "\n",
        "But we are just interesed in the output variable. To extract just the output we add a .output at the end of the analyuzer.predict()\n",
        "\n",
        "Finally we update the dictionary with the new value received.\n",
        "\n"
      ],
      "metadata": {
        "id": "ckMA0rKIf75J"
      }
    },
    {
      "cell_type": "code",
      "source": [
        "for i in c[ 'text' ].values:\n",
        "  out = analyzer.predict(str(preprocess_tweet(i, lang=\"en\", shorten=2))).output\n",
        "  res.update({out: dict.get(out) + 1})"
      ],
      "metadata": {
        "id": "bKT_ZZsYf8Hq"
      },
      "execution_count": 72,
      "outputs": []
    },
    {
      "cell_type": "markdown",
      "source": [
        "To visualize the data, we can use plt.bar() with the following args:\n",
        "\n",
        "- *zip(*dict.items()): This line is for having the values and the keys separate. We went from this:\n",
        "\n",
        "\n",
        "  ```\n",
        "  [('POS', 7622), ('NEU', 7033), ('NEG', 345)]\n",
        "\n",
        "  to this:\n",
        "\n",
        "  ('POS', 'NEU', 'NEG') (7622, 7033, 345)\n",
        "  ```\n",
        "\n",
        "- color=[\"#a4ff7a\", \"#ffff7a\", \"#ff3c50\"]: Specifying the colors we eant for the chart.\n",
        "\n",
        "- edgecolor=\"black\": Specifying the color of the edges.\n",
        "\n",
        "- tick_label=[\"Positive\", \"Neutral\", \"Negative\"]: Changing the labels text.\n",
        "\n",
        "\n",
        "Once done the plt.bar() we print the char using the plt.show().\n",
        "\n",
        "\n",
        "\n",
        "\n"
      ],
      "metadata": {
        "id": "O19xGiKshq7W"
      }
    },
    {
      "cell_type": "code",
      "source": [
        "plt.bar(*zip(*dict.items()), color = [\"#a4ff7a\", \"#ffff7a\", \"#ff3c50\"], \\\n",
        "        edgecolor=\"black\", tick_label=[\"Positive\", \"Neutral\", \"Negative\"])\n",
        "plt.show()"
      ],
      "metadata": {
        "colab": {
          "base_uri": "https://localhost:8080/",
          "height": 269
        },
        "id": "m_gYOdzVRf3p",
        "outputId": "1fb8e8e6-4357-4525-8ff6-2e5083a67736"
      },
      "execution_count": 73,
      "outputs": [
        {
          "output_type": "display_data",
          "data": {
            "text/plain": [
              "<Figure size 432x288 with 1 Axes>"
            ],
            "image/png": "[encoded data removed]"
          },
          "metadata": {
            "needs_background": "light"
          }
        }
      ]
    },
    {
      "cell_type": "markdown",
      "source": [
        "Before printing the pie chart we define some variables:\n",
        "\n",
        "- sizes: Where we store the values of the dictionary *res*\n",
        "\n",
        "- ax: From where we can access the pie chart function.\n",
        "\n",
        "With all this we are prepared for the pie chart. With the function ax.pie() and the following options, we create the pie chart:\n",
        "\n",
        "- sizes: explained before.\n",
        "\n",
        "- labels: Changing the defualt label names.\n",
        "\n",
        "- colors: Changing the default colors of the chart.\n",
        "\n",
        "- radius: Changing the default radius (default = 1)\n",
        "\n",
        "- autopct: Used for printing the % of the chart.\n",
        "\n",
        "- explode: Used for exploding one of the triangles.\n",
        "\n",
        "- shadow: Enabling shadowing.\n",
        "\n",
        "- startangle: Changing the angle of the chart."
      ],
      "metadata": {
        "id": "3_BvjDG6kBwx"
      }
    },
    {
      "cell_type": "code",
      "source": [
        "sizes = res.values()\n",
        "\n",
        "fix, ax = plt.subplots()\n",
        "\n",
        "ax.pie(sizes, \\\n",
        "       labels=[\"Positive\", \"Neutrals\", \"Negatives\"], \\\n",
        "       colors=[\"#a4ff7a\", \"#ffff7a\", \"#ff3c50\"], \\\n",
        "       radius = 2, \\\n",
        "       autopct='%1.1f%%', \\\n",
        "       explode=(0, 0.1, 0), \\\n",
        "       shadow=True, \\\n",
        "       startangle=220 \\\n",
        "       )\n",
        "plt.show()"
      ],
      "metadata": {
        "colab": {
          "base_uri": "https://localhost:8080/",
          "height": 387
        },
        "id": "-KnZgC5JS9U5",
        "outputId": "274c451d-ac8b-4f3a-9160-12eb97f65d2b"
      },
      "execution_count": 74,
      "outputs": [
        {
          "output_type": "display_data",
          "data": {
            "text/plain": [
              "<Figure size 432x288 with 1 Axes>"
            ],
            "image/png": "[encoded data removed]"
          },
          "metadata": {}
        }
      ]
    }
  ]
}